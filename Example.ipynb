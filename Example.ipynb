{
 "cells": [
  {
   "cell_type": "code",
   "execution_count": null,
   "metadata": {},
   "outputs": [],
   "source": [
    "# Python version 3.7.0\n",
    "# Example version 1.1.2\n",
    "import os\n",
    "from modeller import *\n",
    "from modeller.automodel import *    # Load the automodel class\n",
    "from mutator_functions import *"
   ]
  },
  {
   "cell_type": "code",
   "execution_count": null,
   "metadata": {},
   "outputs": [],
   "source": [
    "# Converts alignment file data into easy to use structure\n",
    "# Specify, as for modeller, the alignment file name, knowns and target sequence\n",
    "alnfile = 'picchuEAAAAE5SGS'\n",
    "knowns = ('picchu1', 'EAAAAE5SGSfhnge1', 'picchuR1')\n",
    "sequence= 'picchuEAAAAE5SGS1'\n",
    "structure = get_structure(alnfile, [*knowns, sequence])\n",
    "print(\"Structure obtained\")"
   ]
  },
  {
   "cell_type": "code",
   "execution_count": null,
   "metadata": {},
   "outputs": [],
   "source": [
    "# Setup your mutations here\n",
    "# Below is an example of a replace mutation\n",
    "linenum = 2 # Line of the target on which to perform mutation\n",
    "original = 'SGS' # This is the sequence to be replaced\n",
    "\n",
    "for i in range(2, 6):\n",
    "    if i == 0:\n",
    "        mutation = 'GGAS' # This is the sequence that will replace 'original'\n",
    "    else:\n",
    "        mutation = 'SGS'*i\n",
    "    alnfile_i = alnfile + str(i) # Assigning unique filenames to each alignment file\n",
    "    maximum = 1 # Maximum number of replacements to perform\n",
    "    origin = 0 # Replacements will happen around character 20\n",
    "    structure_m = replace_mutation(structure, linenum, original=original, \n",
    "                                 mutation=mutation, maximum=maximum, origin=origin) # Performing mutation\n",
    "    structure_to_file(structure_m, alnfile_i, '.ali') # Saving mutated data into alignment file\n",
    "    \n",
    "    log.verbose()\n",
    "    env = environ(rand_seed=-12312)  # To get different models from another script\n",
    "\n",
    "    # directories for input atom files\n",
    "    env.io.atom_files_directory = ['.','../atom_files']\n",
    "    # Read in HETATM records from template PDBs\n",
    "    env.io.hetatm = env.io.water = True\n",
    "\n",
    "\n",
    "    a = automodel(env,\n",
    "                  alnfile=alnfile_i + '.ali',      # alignment filename\n",
    "                  knowns=knowns,    # codes of the templates\n",
    "                  sequence=sequence,           # code of the target\n",
    "                  assess_methods=assess.GA341)  # request GA341 assessment\n",
    "\n",
    "    a.starting_model= 1                 # index of the first model\n",
    "    a.ending_model  = 2                 # index of the last model\n",
    "                                        # (determines how many models to calculate)\n",
    "    a.deviation = 4.0                   # has to >0 if more than 1 model\n",
    "\n",
    "    a.make()                            # do homology modelling\n",
    "\n",
    "    # Renaming the pdbs so that the next loop doesnt overwrite them\n",
    "    for id2 in range(a.starting_model, a.ending_model+1):\n",
    "        output_name = a.get_model_filename(sequence=sequence, id1=9999, id2=id2, file_ext='.pdb')\n",
    "        os.rename(output_name, output_name[0:-4] + str(i) + '.pdb')"
   ]
  }
 ],
 "metadata": {
  "kernelspec": {
   "display_name": "Python 3",
   "language": "python",
   "name": "python3"
  },
  "language_info": {
   "codemirror_mode": {
    "name": "ipython",
    "version": 3
   },
   "file_extension": ".py",
   "mimetype": "text/x-python",
   "name": "python",
   "nbconvert_exporter": "python",
   "pygments_lexer": "ipython3",
   "version": "3.7.0"
  }
 },
 "nbformat": 4,
 "nbformat_minor": 2
}
